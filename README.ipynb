{
 "cells": [
  {
   "cell_type": "markdown",
   "metadata": {},
   "source": [
    "# pyco API\n",
    "\n",
    "Bibliotheek voor Civiele Techniek constructie onderwijs. Geschreven door Jara van Veldhoven 2020-2022.\n",
    "\n",
    "Begin alle documenten met onderstaande import."
   ]
  },
  {
   "cell_type": "code",
   "execution_count": 1,
   "metadata": {},
   "outputs": [],
   "source": [
    "import pyco as pc"
   ]
  },
  {
   "cell_type": "markdown",
   "metadata": {},
   "source": [
    "De pyco model is afhankelijk van drie externe bibliotheken:\n",
    "\n",
    "* numpy (https://numpy.org)\n",
    "* pandas (https://pandas.pydata.org/)\n",
    "* matplotlib (https://matplotlib.org/)\n",
    "\n",
    "Deze bibliotheken zijn beschikbaar via pyco:\n",
    "\n",
    "> pc.np # numpy\n",
    ">  \n",
    "> pc.pd # pandas \n",
    "> \n",
    "> pc.plt # pyplot module van matplotlib"
   ]
  },
  {
   "cell_type": "markdown",
   "metadata": {},
   "source": [
    "## Inhoud\n",
    "Alle pyco objecten beginnen met een hoofdletter. Alle functies en eigenschappen beginnen met een kleine letter.\n",
    "\n",
    "* [Waarde](#Waarde)\n",
    "* [Vector](#Vector)\n",
    "* [Knoop](#Knoop)\n",
    "* [Lijn](#Lijn)\n",
    "* [Vorm](#Vorm)\n",
    "    - [Rechthoek](#Rechthoek)\n",
    "    - [Cirkel](#Cirkel)\n",
    "* [Materiaal](#Materiaal)\n",
    "* [pyco functies en eigenschappen](#Functies)"
   ]
  },
  {
   "cell_type": "markdown",
   "metadata": {},
   "source": [
    "## Waarde\n",
    "<a href='#Inhoud' style='font-size:1em;float:right;position:relative;top:-40px;height:0px;'>naar inhoud</a>"
   ]
  },
  {
   "cell_type": "code",
   "execution_count": 2,
   "metadata": {},
   "outputs": [
    {
     "name": "stdout",
     "output_type": "stream",
     "text": [
      "\n",
      "+----------+\n",
      "|  Waarde  |\n",
      "+----------+\n",
      "\n",
      "Bevat een getal en bijhorende eenheid.\n",
      "\n",
      "AANMAKEN WAARDE\n",
      "    w = Waarde(getal)\n",
      "    w = Waarde(getal, eenheid_tekst)\n",
      "\n",
      "AANPASSEN EENHEID           omzetten van eenheid naar andere eenheid\n",
      "    w.eenheid               huidige eenheid opvragen (tekst of None)\n",
      "    w.eenheid = 'N/mm2'     eenheid aanpassen\n",
      "    w = w['N/mm2']          eenheid aanpassen, retourneert object\n",
      "    w.gebruik_eenheid('mm') eenheid aanpassen, retourneert object\n",
      "    w.eh('mm')              eenheid aanpassen, retourneert object\n",
      "    w = w.N_mm2             kan voor een aantal standaard gevallen (zie lijst onderaan)\n",
      "\n",
      "AANPASSEN AFRONDING         pas afgerond wanneer waarde wordt getoond als tekst\n",
      "    w = w[0]                kan voor alle gehele getallen\n",
      "    w = w._0                kan voor 0 t/m 9 (cijfers achter de komma)\n",
      "\n",
      "OMZETTEN WAARDE NAAR TEKST  resulteert in nieuw string object\n",
      "                                -> gebruikt afronding indien opgegeven\n",
      "    tekst = str(w)          of automatisch met bijvoorbeeld print(w)\n",
      "    tekst = format(w,'.2f') format configuratie meegeven voor getal\n",
      "\n",
      "OMZETTEN WAARDE NAAR GETAL  resulteert in nieuw float object\n",
      "    getal = float(w)        omzetten met standaard eenheid\n",
      "    getal = float(w['eh'])  eerst eenheid definiëren voor omzetten waarde\n",
      "\n",
      "MOGELIJKE BEWERKINGEN       resulteert in nieuw Waarde object\n",
      "    w3 = w1 + w2            waarde optellen bij waarde\n",
      "    w3 = w1 - w2            waarde aftrekken van waarde\n",
      "    w3 = w1 * w2            waarde vermenigvuldigen met waarde\n",
      "    w3 = w1 / w2            waarde delen door waarde\n",
      "    w2 = n * w1             getal vermenigvuldigen met waarde\n",
      "    w2 = w1 * n             waarde vermenigvuldigen met getal\n",
      "    w2 = n / w1             getal delen door waarde\n",
      "    w2 = w1 / n             waarde delen door getal\n",
      "    w2 = w1 ** n            waarde tot de macht een geheel getal\n",
      "    w2 = abs(w1)            maakt waarde altijd positief\n",
      "    w2 = +w1                behoud teken\n",
      "    w2 = -w1                verander teken (positief vs. negatief)\n",
      "\n",
      "WAARDEN VERGELIJKEN         resulteert in een boolean (True/False)\n",
      "    w1 == w2                is gelijk aan\n",
      "    w1 == getal             de float() van waarde is gelijk aan getal\n",
      "    w1 != w2                is niet gelijk aan\n",
      "    w1 >  w2                is groter dan\n",
      "    w1 <  w2                is kleiner dan\n",
      "    w1 >= w2                is groter dan of gelijk aan\n",
      "    w1 <= w2                is kleiner dan of gelijk aan\n",
      "    w1 &  w2                eenheden zijn zelfde type\n",
      "\n",
      "EENHEID TEKST\n",
      "    gebruik een getal achter standaard eenheid voor 'tot de macht' (bijv. mm3)\n",
      "    gebruik / (maximaal één keer) om teller en noemer te introduceren\n",
      "    gebruik * om eenheden te combineren (zowel in teller als noemer)\n",
      "    bijvoorbeeld: \"m3*kPa/s4*m\"\n",
      "\n",
      "STANDAARD EENHEDEN          deze kan je combineren in een eenheid tekst\n",
      "    dimensieloos            -\n",
      "    massa                   ag fg pg ng mug mg cg g hg kg Mg Gg Tg Pg Eg\n",
      "                            ton kton Mton ounce pound kip stone grain\n",
      "    lengte                  am fm pm nm mum mm cm dm m dam hm km Mm Gm Tm\n",
      "                            Pm Em in ft yard zeemijl mijl\n",
      "    tijd                    as(.attos) fs ps ns mus ms cs ds s das hs ks\n",
      "                            Ms Gs Ts Ps Es min(.minuut) h d j\n",
      "    temperatuur             C K F  (als temperatuur in teller, samen met\n",
      "                            andere eenheden, dan niet om te rekenen)\n",
      "    hoek                    rad deg gon\n",
      "    kracht                  N kN MN GN TN  (of massa*lengte/tijd^2)\n",
      "    spanning                Pa kPa MPa GPa TPa  (of kracht/oppervlakte)\n",
      "    moment                  Nm kNm MNm Nmm kNmm MNmm  (of kracht*lengte)\n",
      "    oppervlakte             ca a ha  (of lengte^2)\n",
      "    inhoud                  ml cl dl l dal hl kl gallon pint floz tbs tsp\n",
      "                            bbl cup  (of lengte^3)\n",
      "\n",
      "BESCHIKBARE EIGENSCHAPPEN   voor snel toekennen van eenheid aan waarde\n",
      "<object>.<eigenschap>       bijvoorbeeld toekennen inhoud: w.dm3\n",
      "a ag am attos bbl C ca cg cl cl_d cl_h cl_j cl_min cl_s cm cm2 cm3 cm3_d\n",
      "cm3_h cm3_j cm3_min cm3_s cm4 cm_d cm_h cm_j cm_min cm_s cs cup d dal dam\n",
      "das deg dg dl dl_d dl_h dl_j dl_min dl_s dm dm2 dm3 dm3_d dm3_h dm3_j\n",
      "dm3_min dm3_s dm4 dm_d dm_h dm_j dm_min dm_s ds Eg Em Es F fg floz fm fs ft\n",
      "g gallon Gg Gm GN gon GPa grain Gs h ha hg hl hm hm2 hm3 hs inch K kg kip\n",
      "kl km km2 km3 km3_d km3_h km3_j km3_min km3_s km4 km_d km_h km_j km_min\n",
      "km_s kN kNm kNmm kN_m kN_mm kN_m2 kN_mm2 kPa ks kton l l_d l_h l_j l_min\n",
      "l_s m m2 m3 m3_d m3_h m3_j m3_min m3_s m4 Mg mg mijl minuut ml ml_d ml_h\n",
      "ml_j ml_min ml_s Mm mm mm2 mm3 mm3_d mm3_h mm3_j mm3_min mm3_s mm4 mm_d\n",
      "mm_h mm_j mm_min mm_s MN MNm MNmm MN_m2 MN_mm2 MPa Ms ms Mton mug mum mus\n",
      "m_d m_h m_j m_min m_s N ng Nm nm Nmm ns N_m N_mm N_m2 N_mm2 ounce Pa Pg pg\n",
      "pint Pm pm pound Ps ps rad s stone tbs Tg Tm TN ton TPa Ts tsp yard zeemijl\n",
      "\n"
     ]
    }
   ],
   "source": [
    "pc.Waarde.print_help()"
   ]
  },
  {
   "cell_type": "code",
   "execution_count": 3,
   "metadata": {},
   "outputs": [
    {
     "name": "stdout",
     "output_type": "stream",
     "text": [
      "12 dm + 58 cm = 1780.0000000000002 mm\n",
      "pi radialen komt overeen met: 180.00000002350313 deg\n",
      "1 meter per 10 graden Celsius komt overen met: 5.5555555555555545 cm/F\n"
     ]
    }
   ],
   "source": [
    "W = pc.Waarde\n",
    "print(f\"12 dm + 58 cm = { (W(12).dm + W(58).cm).mm }\")\n",
    "print(f\"pi radialen komt overeen met: { W(3.141592654, 'rad').deg }\")\n",
    "print(f\"1 meter per 10 graden Celsius komt overen met: { W(1/10, 'm/C')['cm/F'] }\")"
   ]
  },
  {
   "cell_type": "markdown",
   "metadata": {},
   "source": [
    "## Vector\n",
    "<a href='#Inhoud' style='font-size:1em;float:right;position:relative;top:-40px;height:0px;'>naar inhoud</a>"
   ]
  },
  {
   "cell_type": "code",
   "execution_count": 4,
   "metadata": {},
   "outputs": [
    {
     "name": "stdout",
     "output_type": "stream",
     "text": [
      "\n",
      "+----------+\n",
      "|  Vector  |\n",
      "+----------+\n",
      "\n",
      "Bevat een lijst van getallen of Waarde objecten met allen dezelfde eenheid.\n",
      "\n",
      "AANMAKEN VECTOR             eenheid van 1e component, geldt voor geheel\n",
      "    v = Vector(waarde1, waarde2, ...)          waarde: float, int of Waarde\n",
      "    v = Vector([waarde1, waarde2, ...])              \n",
      "    v = Vector(numpy_array)             array wordt indien nodig 1D gemaakt\n",
      "\n",
      "AANPASSEN EENHEID           omzetten van eenheid naar andere eenheid\n",
      "    v.eenheid               huidige eenheid opvragen (tekst of None)\n",
      "    v.eenheid = 'N/mm2'     eenheid aanpassen\n",
      "    v.gebruik_eenheid('m')  eenheid aanpassen, retourneert object\n",
      "    v.eh('m')               eenheid aanpassen, retourneert object\n",
      "    v = v.N_mm2             kan voor een aantal standaard gevallen (zie lijst onderaan)\n",
      "\n",
      "OMZETTEN VECTOR NAAR TEKST  resulteert in nieuw string object\n",
      "    tekst = str(v)          of automatisch met bijvoorbeeld print(w)\n",
      "    tekst = format(v,'.2f') format configuratie meegeven voor getal\n",
      "\n",
      "MOGELIJKE BEWERKINGEN       resulteert in nieuw Vector object\n",
      "    v3 = v1 + v2            vector optellen bij vector\n",
      "    v3 = v1 - v2            vector aftrekken van vector\n",
      "    getal = v1 * v2         vector vermenigvuldigen met vector (inproduct)\n",
      "    getal = v1 / v2         vector delen door vector (inverse inproduct)\n",
      "    v2 = n * v1             getal vermenigvuldigen met vector\n",
      "    v2 = v1 * n             vector vermenigvuldigen met getal\n",
      "    v2 = n / v1             getal delen door vector\n",
      "    v2 = v1 / n             vector delen door getal\n",
      "    waarde = v1 ** n        vector tot de macht een geheel getal\n",
      "    waarde = abs(v1)        berekent lengte van vector -> Waarde object\n",
      "    getal = float(v1)       berekent lengte van vector -> float object\n",
      "    v2 = +v1                behoud teken\n",
      "    v2 = -v1                verander teken (positief vs. negatief)\n",
      "    for w in v1:            itereert en geeft float/Waarde object terug\n",
      "    getal = len(v1)         geeft aantal elementen (dimensies) van vector\n",
      "\n",
      "NUMPY BEWERKINGEN           gebruikt array object\n",
      "    numpy_array = v1.array  retourneert Numpy array object\n",
      "                                (bevat allen getallen, zonder eenheid)\n",
      "    getal = v1[2]           retourneert getal (zonder eenheid) op index\n",
      "    numpy_array = v1[1:3]   retourneert Numpy array object vanuit slice\n",
      "\n",
      "WAARDEN VERGELIJKEN         resulteert in een boolean (True/False)\n",
      "    v1 == v2                is gelijk aan\n",
      "    v1 != v2                is niet gelijk aan\n",
      "    v1 >  v2                de lengte van vector is groter dan\n",
      "    v1 <  v2                de lengte van vector is kleiner dan\n",
      "    v1 >= v2                de lengte van vector is groter dan of gelijk aan\n",
      "    v1 <= v2                de lengte van vector is kleiner dan of gelijk aan\n",
      "    v1 &  v2                eenheden zijn zelfde type\n",
      "    \n",
      "BESCHIKBARE EIGENSCHAPPEN   voor snel toekennen van eenheid aan waarde\n",
      "<object>.<eigenschap>       bijvoorbeeld toekennen inhoud: v.dm3\n",
      "a ag am attos bbl C ca cg cl cl_d cl_h cl_j cl_min cl_s cm cm2 cm3 cm3_d\n",
      "cm3_h cm3_j cm3_min cm3_s cm4 cm_d cm_h cm_j cm_min cm_s cs cup d dal dam\n",
      "das deg dg dl dl_d dl_h dl_j dl_min dl_s dm dm2 dm3 dm3_d dm3_h dm3_j\n",
      "dm3_min dm3_s dm4 dm_d dm_h dm_j dm_min dm_s ds Eg Em Es F fg floz fm fs ft\n",
      "g gallon Gg Gm GN gon GPa grain Gs h ha hg hl hm hm2 hm3 hs inch K kg kip\n",
      "kl km km2 km3 km3_d km3_h km3_j km3_min km3_s km4 km_d km_h km_j km_min\n",
      "km_s kN kNm kNmm kN_m kN_mm kN_m2 kN_mm2 kPa ks kton l l_d l_h l_j l_min\n",
      "l_s m m2 m3 m3_d m3_h m3_j m3_min m3_s m4 Mg mg mijl minuut ml ml_d ml_h\n",
      "ml_j ml_min ml_s Mm mm mm2 mm3 mm3_d mm3_h mm3_j mm3_min mm3_s mm4 mm_d\n",
      "mm_h mm_j mm_min mm_s MN MNm MNmm MN_m2 MN_mm2 MPa Ms ms Mton mug mum mus\n",
      "m_d m_h m_j m_min m_s N ng Nm nm Nmm ns N_m N_mm N_m2 N_mm2 ounce Pa Pg pg\n",
      "pint Pm pm pound Ps ps rad s stone tbs Tg Tm TN ton TPa Ts tsp yard zeemijl\n",
      "\n"
     ]
    }
   ],
   "source": [
    "pc.Vector.print_help()"
   ]
  },
  {
   "cell_type": "code",
   "execution_count": 5,
   "metadata": {},
   "outputs": [
    {
     "data": {
      "text/plain": [
       "Vector(Waarde(0.0, 'cm'), Waarde(200.0, 'cm'), Waarde(1.0, 'cm'))"
      ]
     },
     "execution_count": 5,
     "metadata": {},
     "output_type": "execute_result"
    }
   ],
   "source": [
    "pc.Vector(0, 200, 1).eh('cm')"
   ]
  },
  {
   "cell_type": "markdown",
   "metadata": {},
   "source": [
    "## Knoop\n",
    "<a href='#Inhoud' style='font-size:1em;float:right;position:relative;top:-40px;height:0px;'>naar inhoud</a>"
   ]
  },
  {
   "cell_type": "code",
   "execution_count": 6,
   "metadata": {},
   "outputs": [
    {
     "name": "stdout",
     "output_type": "stream",
     "text": [
      "\n",
      "+---------+\n",
      "|  Knoop  |\n",
      "+---------+\n",
      "\n",
      "Bevat een lijst van getallen of Waarde (x, y, en/of z) met lengte eenheid.\n",
      "\n",
      "AANMAKEN KNOOP              eenheid van 1e component, geldt voor geheel\n",
      "    k = Knoop([x_waarde, y_waarde, z_waarde])   kan oneindig veel dimensies\n",
      "\n",
      "AANPASSEN EENHEID           omzetten van eenheid naar andere eenheid\n",
      "    k.eenheid               huidige eenheid opvragen (tekst of None)\n",
      "    k.eenheid = 'N/mm2'     eenheid aanpassen\n",
      "    k.gebruik_eenheid('m')  zelfde als bovenstaande, retourneert object\n",
      "\n",
      "OMZETTEN KNOOP NAAR TEKST   resulteert in nieuw string object\n",
      "    tekst = str(k)          of automatisch met bijvoorbeeld print(w)\n",
      "    tekst = format(k,'.2f') format configuratie meegeven voor getal\n",
      "\n",
      "MOGELIJKE BEWERKINGEN       resulteert in nieuw Knoop object\n",
      "    k3 = k1 + k2            knoop optellen bij knoop\n",
      "    k3 = k1 - k2            knoop aftrekken van knoop\n",
      "    k2 = n * k1             getal vermenigvuldigen met knoop\n",
      "    k2 = k1 * n             knoop vermenigvuldigen met getal\n",
      "    k2 = n / k1             getal delen door knoop\n",
      "    k2 = k1 / n             knoop delen door getal\n",
      "    k2 = +k1                behoud teken\n",
      "    k2 = -k1                verander teken (positief vs. negatief)\n",
      "    for w in k1:            itereert en geeft float/Waarde object terug\n",
      "    Waarde/getal = k1.x     retourneert 1e element als Waarde object\n",
      "    Waarde/getal = k1.y     retourneert 2e element als Waarde object\n",
      "    Waarde/getal = k1.z     retourneert 3e element als Waarde object\n",
      "    getal = len(k1)         geeft aantal elementen (dimensies) van knoop\n",
      "\n",
      "NUMPY BEWERKINGEN           gebruikt array object\n",
      "    numpy_array = k1.array  retourneert Numpy array object\n",
      "                                (bevat allen getallen, zonder eenheid)\n",
      "    getal = k1[2]           retourneert getal (zonder eenheid) op index\n",
      "    numpy_array = k1[1:3]   retourneert Numpy array object vanuit slice\n",
      "\n",
      "WAARDEN VERGELIJKEN         resulteert in een boolean (True/False)\n",
      "    k1 == k2                is gelijk aan\n",
      "    k1 != k2                is niet gelijk aan\n",
      "    k1 &  k2                eenheden zijn zelfde type\n",
      "\n"
     ]
    }
   ],
   "source": [
    "pc.Knoop.print_help()"
   ]
  },
  {
   "cell_type": "code",
   "execution_count": 7,
   "metadata": {},
   "outputs": [
    {
     "name": "stdout",
     "output_type": "stream",
     "text": [
      "k2 heeft een x-waarde [0.0 m], een y-waarde [0.8 m] en een z-waarde [1.5 m]\n"
     ]
    }
   ],
   "source": [
    "k1 = pc.Knoop(20, 20, 100).gebruik_eenheid('cm')\n",
    "k2 = pc.Knoop(0, 0.8, 1.5).gebruik_eenheid('m')\n",
    "k3 = pc.Knoop(0, 0, 1000).gebruik_eenheid('mm')\n",
    "\n",
    "print(f'k2 heeft een x-waarde [{k2.x}], een y-waarde [{k2.y}] en een z-waarde [{k2.z}]')"
   ]
  },
  {
   "cell_type": "markdown",
   "metadata": {},
   "source": [
    "## Lijn\n",
    "<a href='#Inhoud' style='font-size:1em;float:right;position:relative;top:-40px;height:0px;'>naar inhoud</a>"
   ]
  },
  {
   "cell_type": "code",
   "execution_count": 8,
   "metadata": {},
   "outputs": [
    {
     "name": "stdout",
     "output_type": "stream",
     "text": [
      "\n",
      "+--------+\n",
      "|  Lijn  |\n",
      "+--------+\n",
      "\n",
      "Bevat een collectie met knopen, waartussen zich rechte lijnen bevinden.\n",
      "\n",
      "AANMAKEN LIJN               invoeren van één of meedere Knoop objecten\n",
      "    Lijn(Knoop(Waarde(1).cm, Waarde(2).cm)))    begin Knoop object\n",
      "    Lijn([1,2]) of Lijn((1,2))                  alleen begincoordinaat\n",
      "    Lijn((1,2), (3,4), (5,6))                   alle knoopcoordinaten\n",
      "\n",
      "AANPASSEN EENHEID\n",
      "    l = Lijn((1,2), (3,4))\n",
      "    l.eenheid               opvragen huidige eenheid; in dit geval None\n",
      "    l.eenheid = 'm'         alle waarden in alle knoopobjecten naar 'm'\n",
      "    l.gebruik_eenheid('m')  zelfde als bovenstaande, retourneert object\n",
      "\n",
      "OMZETTEN LIJN NAAR TEKST    resulteert in nieuw string object\n",
      "    tekst = str(l)          of automatisch met bijvoorbeeld print(l)\n",
      "    tekst = format(l,'.2f') format configuratie meegeven voor getal\n",
      "\n",
      "VERLENGEN LIJN              vanuit laatste knoop (of enige beginknoop)\n",
      "    l.lijn_recht(naar=(3,4))\n",
      "        rechte lijn naar een nieuwe knoop\n",
      "\n",
      "    l.lijn_bezier(richting=(3,4), naar=(5,6), stappen=100)\n",
      "        (kwadratische) Bezier kromme (met één richtingspunt) naar nieuwe\n",
      "        knoop waarbij de kromme lijn omgezet wordt in aantal (stappen)\n",
      "        rechte lijnen; standaard 100 stappen\n",
      "\n",
      "    l.lijn_cirkelboog(middelpunt=(3,4), gradenhoek=-90, stappen=100)\n",
      "        cirkelboog met opgegeven cirkel middelpunt over aantal opgegeven\n",
      "        graden (waarbij 360 is gehele cirkel tekenen; positief is tegen\n",
      "        klok in; negatief getal is met de klok mee) waarbij kromme lijn\n",
      "        omgezet wordt in aantal rechte lijnen; standaard 100 stappen\n",
      "\n",
      "TRANSFORMEREN LIJN\n",
      "    l.transformeren(       # standaard zijn alle parameters None\n",
      "        rotatiepunt=[0,0], # xy Knoop/list; als None dan zwaartepunt vorm\n",
      "        rotatiehoek=20,    # in graden, positief is tegen de klok in\n",
      "        schaalfactor=2,  # Waarde/getal: vergrootfactor t.o.v. rotatiepunt\n",
      "        schaalfactor=[2,3],# of Vector/list met x-schaalfactor en y-factor\n",
      "        schaalfactor=[1,-1],# verticaal spiegelen\n",
      "        schaalfactor=[-1,1],# horizontaal spiegelen\n",
      "        schaalfactor=[-5,3],# bovenstaande combineren\n",
      "        translatie=[10,5], # xy verschuiven (na roteren en schalen)\n",
      "    )\n",
      "\n",
      "MOGELIJKE BEWERKINGEN\n",
      "    waarde = abs(l)         berekent lengte lijnstukken -> Waarde object\n",
      "    getal = float(l)        berekent lengte lijnstukken -> float object\n",
      "    for w in v1:            itereert en geeft Knoop object terug\n",
      "    getal = len(v1)         geeft aantal knopen terug\n",
      "\n",
      "NUMPY BEWERKINGEN               gebruikt array object\n",
      "    2D numpy_array = l1.array   retourneert volledige Numpy array object\n",
      "                                  (bevat allen getallen, zonder eenheid)\n",
      "    1D_numpy_array = l1[2]      retourneert knoopcoordinaten op index\n",
      "    2D_numpy_array = l1[1:3]    retourneert knoopcoordinaten vanuit slice\n",
      "\n",
      "WAARDEN VERGELIJKEN         resulteert in een boolean (True/False)\n",
      "    l1 == l2                is gelijk aan\n",
      "    l1 != l2                is niet gelijk aan\n",
      "    l1 &  l2                eenheden zijn zelfde type\n",
      "\n",
      "EXTRA OPTIES\n",
      "    l.plot()                plot simpele 2D weergave van lijn\n",
      "    l.plot3D()              plot simpele 3D weergave van lijn\n",
      "\n",
      "    Lijn((4, -5), (-10, 10)).lijn_cirkelboog(middelpunt=(0,0),\n",
      "        gradenhoek=+220, stappen=50).lijn_recht(naar=(4, 10)).lijn_bezier(\n",
      "        richting=(-10,-4), naar=(4, -5)).plot()\n",
      "\n"
     ]
    }
   ],
   "source": [
    "pc.Lijn.print_help()"
   ]
  },
  {
   "cell_type": "code",
   "execution_count": 9,
   "metadata": {},
   "outputs": [
    {
     "data": {
      "image/png": "[encoded data removed]",
      "text/plain": [
       "<Figure size 432x288 with 1 Axes>"
      ]
     },
     "metadata": {
      "needs_background": "light"
     },
     "output_type": "display_data"
    }
   ],
   "source": [
    "pc.Lijn(k1, k2, k3).plot3D()"
   ]
  },
  {
   "cell_type": "markdown",
   "metadata": {},
   "source": [
    "## Vorm\n",
    "<a href='#Inhoud' style='font-size:1em;float:right;position:relative;top:-40px;height:0px;'>naar inhoud</a>"
   ]
  },
  {
   "cell_type": "code",
   "execution_count": 10,
   "metadata": {},
   "outputs": [
    {
     "name": "stdout",
     "output_type": "stream",
     "text": [
      "\n",
      "+--------+\n",
      "|  Vorm  |\n",
      "+--------+\n",
      "\n",
      "Betreft een meetkundig 2D vorm met bijbehorende eigenschappen.\n",
      "\n",
      "AANMAKEN VORM\n",
      "    v1 = Vorm(Lijn)                 invoeren van één Lijn object\n",
      "    v2 = Vorm([(0,0),(1,1),(1,0)])  direct invoeren knoopcoordinaten\n",
      "\n",
      "EENHEID\n",
      "    v.eenheid       opvragen huidige eenheid; of None als alleen getal\n",
      "    v.eenheid = 'm' alle waarden in alle knoopobjecten naar 'm'\n",
      "    v.gebruik_eenheid('m')   zelfde als bovenstaande, retourneert object\n",
      "\n",
      "EIGENSCHAPPEN       naam + '_'  -->  Waarde object i.p.v. getal\n",
      "    v.O             omtrek   (bijv. v.O_ geeft omtrek Waarde met eenheid)\n",
      "    v.A             oppervlakte\n",
      "    v.xmin v.xmax   minimum en maximum x-waarde\n",
      "    v.ymin v.ymax   minimum en maximum y-waarde\n",
      "    v.ncx  v.ncy    x- en y-waarde normaalkrachtencetrum (zwaartepunt)\n",
      "    v.Ixx  v.Iyy    oppervlakte traagheidsmoment in x- en y-richting\n",
      "    v.Ixy           traagheidsproduct (is 0 voor symmetrische vormen)\n",
      "    v.I1   v.I2     hoofdtraagheidsmomenten (1 sterke richting, 2 zwakke)\n",
      "    v.alpha         hoek (tegen klok in) hoofdtraagheidsassen\n",
      "    v.Wxmin v.Wxmax weerstandsmoment voor vezel x-minimaal en x-maximaal\n",
      "    v.Wymin v.Wymax weerstandsmoment voor vezel y-minimaal en y-maximaal\n",
      "    v.kxmin v.kxmax laagste/hoogste x-waarde van kern\n",
      "    v.kymin v.kymax laagste/hoogste y-waarde van kern\n",
      "\n",
      "KNOOP COORDINATEN\n",
      "    v.array                 Numpy array met x/y coordinaten\n",
      "    v.array_gesloten        zelfde, met kopie 1e knoop aan het einde\n",
      "    v.kern_array            Numpy array met x/y coordinaten van kern\n",
      "    v.kern_array_gesloten   zelfde, met kopie 1e knoop aan het einde\n",
      "\n",
      "LIJN OBJECT\n",
      "    v.lijn        genereert een Lijn object van vorm omtrek (gesloten)\n",
      "\n",
      "BEWERKINGEN\n",
      "    v[3]          subset Numpy array object met getallen (zonder eenheid)\n",
      "    len(v)        aantal knopen\n",
      "    for k in v:   itereert over knopen, geeft Knoop object (met eenheid)\n",
      "\n",
      "OVERIG\n",
      "    v.plot()                Matplotlib plot met vormeigenschappen\n",
      "    v.print_eigenschappen() print overzicht van eigenschappen\n",
      "    v.print_eigenschappen(knopen=True)  zelfde, met lijst van knopen\n",
      "\n"
     ]
    }
   ],
   "source": [
    "pc.Vorm.print_help()"
   ]
  },
  {
   "cell_type": "code",
   "execution_count": 11,
   "metadata": {},
   "outputs": [
    {
     "data": {
      "image/png": "[encoded data removed]",
      "text/plain": [
       "<Figure size 432x288 with 1 Axes>"
      ]
     },
     "metadata": {
      "needs_background": "light"
     },
     "output_type": "display_data"
    },
    {
     "name": "stdout",
     "output_type": "stream",
     "text": [
      "\n",
      "       O = 658.439 mm\n",
      "       A = 6300.000 mm2\n",
      "    xmin = -86.184 mm\n",
      "    xmax = 140.091 mm\n",
      "    ymin = -181.795 mm\n",
      "    ymax = -68.658 mm\n",
      "     ncx = 50.000 mm\n",
      "     ncy = -113.704 mm\n",
      "     Ixx = 20491327.160 mm4\n",
      "     Iyy = 5122831.790 mm4\n",
      "     Ixy = -5004336.420 mm4\n",
      "      I1 = 21977196.459 mm4\n",
      "      I2 = 3636962.492 mm4\n",
      "   alpha = -16.537 deg\n",
      "   Wxmin = 150468.470 mm3\n",
      "   Wxmax = 227452.339 mm3\n",
      "   Wymin = 37617.118 mm3\n",
      "   Wymax = 56863.085 mm3\n",
      "   kxmin = -36.104 mm\n",
      "   kxmax = 23.884 mm\n",
      "   kymin = -36.104 mm\n",
      "   kymax = 23.884 mm\n",
      "\n",
      "het grootste hoofdtraagheidsmoment is: 2.20e+07 mm4\n"
     ]
    }
   ],
   "source": [
    "v1 = pc.Vorm(pc.Lijn([-50,-40], [-40, -40], [-30, 15], [30, 15], [40, -40], [50,-40], [50,20], [0, 40], [-50, 20]).transformeren(\n",
    "          rotatiepunt=None, # bij None: neemt standaard zwaartepunt\n",
    "          rotatiehoek=45, # graden tegen de klok in\n",
    "          schaalfactor=[-2, 1], # vergroten om rotatiepunt; negatief:spiegelen\n",
    "          translatie=[50, -120] # verplaatsing\n",
    "    ).gebruik_eenheid('mm'))\n",
    "v1.plot()\n",
    "v1.print_eigenschappen()\n",
    "print(f'het grootste hoofdtraagheidsmoment is: {v1.I1:.2e} mm4')"
   ]
  },
  {
   "cell_type": "markdown",
   "metadata": {},
   "source": [
    "## Rechthoek\n",
    "<a href='#Inhoud' style='font-size:1em;float:right;position:relative;top:-40px;height:0px;'>naar inhoud</a>"
   ]
  },
  {
   "cell_type": "code",
   "execution_count": 12,
   "metadata": {},
   "outputs": [
    {
     "name": "stdout",
     "output_type": "stream",
     "text": [
      "\n",
      "+-------------+\n",
      "|  Rechthoek  |\n",
      "+-------------+\n",
      "\n",
      "Creeert een rechthoekig Vorm object.\n",
      "\n",
      "AANMAKEN RECHTHOEK\n",
      "    r = Rechthoek(breedte=Waarde(300).mm, hoogte=Waarde(500).mm)\n",
      "    \n",
      "Verder zijn alle eigenschappen van toepassing als van een Vorm object.\n",
      "\n"
     ]
    }
   ],
   "source": [
    "pc.Rechthoek.print_help()"
   ]
  },
  {
   "cell_type": "code",
   "execution_count": 13,
   "metadata": {},
   "outputs": [
    {
     "data": {
      "image/png": "[encoded data removed]",
      "text/plain": [
       "<Figure size 432x288 with 1 Axes>"
      ]
     },
     "metadata": {
      "needs_background": "light"
     },
     "output_type": "display_data"
    }
   ],
   "source": [
    "pc.Rechthoek(breedte=30, hoogte=50).plot()"
   ]
  },
  {
   "cell_type": "markdown",
   "metadata": {},
   "source": [
    "## Cirkel\n",
    "<a href='#Inhoud' style='font-size:1em;float:right;position:relative;top:-40px;height:0px;'>naar inhoud</a>"
   ]
  },
  {
   "cell_type": "code",
   "execution_count": 14,
   "metadata": {},
   "outputs": [
    {
     "name": "stdout",
     "output_type": "stream",
     "text": [
      "\n",
      "+----------+\n",
      "|  Cirkel  |\n",
      "+----------+\n",
      "\n",
      "Creeert een cirkelvormig Vorm object.\n",
      "\n",
      "AANMAKEN CIRKEL\n",
      "    c = Cirkel(straal=Waarde(3).mm)\n",
      "    \n",
      "Vormeigenschappen worden exact bepaald, daar waar een Vorm object een ronde\n",
      "rand benadert met kleine rechte lijnen.\n",
      "\n",
      "Verder zijn alle eigenschappen en methoden van toepassing als van een\n",
      "Vorm object.\n",
      "\n"
     ]
    }
   ],
   "source": [
    "pc.Cirkel.print_help()"
   ]
  },
  {
   "cell_type": "code",
   "execution_count": 15,
   "metadata": {},
   "outputs": [
    {
     "data": {
      "image/png": "[encoded data removed]",
      "text/plain": [
       "<Figure size 432x288 with 1 Axes>"
      ]
     },
     "metadata": {
      "needs_background": "light"
     },
     "output_type": "display_data"
    }
   ],
   "source": [
    "pc.Cirkel(straal=pc.Waarde(1).dm).gebruik_eenheid('m').plot()"
   ]
  },
  {
   "cell_type": "markdown",
   "metadata": {},
   "source": [
    "## Materiaal\n",
    "<a href='#Inhoud' style='font-size:1em;float:right;position:relative;top:-40px;height:0px;'>naar inhoud</a>"
   ]
  },
  {
   "cell_type": "code",
   "execution_count": 16,
   "metadata": {},
   "outputs": [
    {
     "name": "stdout",
     "output_type": "stream",
     "text": [
      "\n",
      "+-------------+\n",
      "|  Materiaal  |\n",
      "+-------------+\n",
      "\n",
      "Betreft een materiaal met diverse eigenschappen.\n",
      "\n",
      "AANMAKEN MATERIAAL\n",
      "    m = Materiaal(E=Waarde(210, 'GPa'),     # elasticiteitsmodulus\n",
      "                  G=Waarde(75, 'GPa'),      # glijdings(schuif)modulus\n",
      "                  v=Waarde(0.4),            # dwarscontractiecoëfficiënt\n",
      "                                                           (Poisson factor)\n",
      "                  sm=Waarde(7850, 'kg/m3'), # soortelijke massa (dichtheid)\n",
      "                  sg=Waarde(78.5, 'kN/m3')) # soortelijk gewicht\n",
      "    \n",
      "RELATIE E, G EN v\n",
      "    Indien E en v bekend zijn, dan wordt G zelf bepaald: G = E/(2(1+v))\n",
      "    Indien E en G bekend zijn, dan wordt v zelf bepaald: v = (E/2G)-1\n",
      "    Alledrie grootheden kunnen handmatig worden overschreven.\n",
      "    \n",
      "OPVRAGEN EN AANPASSEN MATERIAALEIGENSCHAPPEN\n",
      "    m.E                             # retourneert Waarde object\n",
      "    m.E = Waarde(180).GPa           # past waarde E aan\n",
      "\n"
     ]
    }
   ],
   "source": [
    "pc.Materiaal.print_help()"
   ]
  },
  {
   "cell_type": "code",
   "execution_count": 17,
   "metadata": {},
   "outputs": [
    {
     "name": "stdout",
     "output_type": "stream",
     "text": [
      "dwarscontractiecoëfficiënt is: 0.3999999999999999\n"
     ]
    }
   ],
   "source": [
    "S235 = pc.Materiaal(\n",
    "    E=W(210).GPa,\n",
    "    G=W(75).GPa,\n",
    "    sm=W(7850)['kg/m3'],\n",
    "    sg=W(78.5)['kN/m3'],\n",
    "    )\n",
    "print(f'dwarscontractiecoëfficiënt is: {S235.v}')"
   ]
  },
  {
   "cell_type": "markdown",
   "metadata": {},
   "source": [
    "## Functies\n",
    "<a href='#Inhoud' style='font-size:1em;float:right;position:relative;top:-40px;height:0px;'>naar inhoud</a>\n",
    "Naast bovenstaande pyco objecten, zijn er ook algemene pyco functies en eigenschappen beschikbaar. Deze beginnen altijd met een kleine letter."
   ]
  },
  {
   "cell_type": "code",
   "execution_count": 18,
   "metadata": {},
   "outputs": [
    {
     "name": "stdout",
     "output_type": "stream",
     "text": [
      "+-------------------------------------------+\n",
      "|  algemene pyco functies en eigenschappen  |\n",
      "+-------------------------------------------+\n",
      "\n",
      "ALGEMEEN GEBRUIK VAN FUNCTIES         alle namen met () erachter zijn functies\n",
      "    pc.wortel(9) == 3.0               direct aan te roepen vanuit pc object\n",
      "    \n",
      "ALGEMEEN GEBRUIK VAN EIGENSCHAPPEN\n",
      "    pc.pi == 3.141592653589793        direct aan te roepen vanuit pc object\n",
      "\n",
      "WISKUNDIGE FUNCTIES                   (gebaseerd op Numpy module)\n",
      "    invoerwaarden:  int, float, np.array, Waarde of Vector\n",
      "    uitvoerwaarden: indien invoer Waarde/Vector, uitvoer ook Waarde/Vector met\n",
      "                    ALTIJD zelfde eenheid als invoer; ook als niet correct is!!\n",
      "    sin(x)                            sinus\n",
      "    cos(x)                            cosinus\n",
      "    tan(x)                            tangens\n",
      "    asin(x)                           arcsinus (omgekeerde sin)\n",
      "    acos(x)                           arccosinus (omgekeerde cos)\n",
      "    atan(x)                           arctangens (omgekeerde tan)\n",
      "    hypot(a, b)                       hypotenuse (c in: a^2 + b^c = c^2)\n",
      "    graden(rad)                       van radialen naar graden\n",
      "    radialen(deg)                     van graden naar radialen\n",
      "    sinh(x)                           hyperbolische sinus\n",
      "    cosh(x)                           hyperbolische cosinus\n",
      "    tanh(x)                           hyperbolische tangens\n",
      "    asinh(x)                          arc hyperb. sinus (omgekeerde sinh)\n",
      "    acosh(x)                          arc hyperb. cosinus (omgekeerde cosh)\n",
      "    atanh(x)                          arc hyperb. tangens (omgekeerde tanh)\n",
      "    afronden(x, n)                    rond af op n decimalen (standaard 0)\n",
      "    plafond(x)                        rond af naar boven (geheel getal)\n",
      "    vloer(x)                          rond af naar beneden (geheel getal)\n",
      "    plafond_0_vloer(x)                rond af richting 0 (geheel getal)\n",
      "    som(lijst)                        de som van de elementen\n",
      "    product(lijst)                    het product van de elementen\n",
      "    verschil(lijst)                   lijst met verschillen tussen elementen\n",
      "    optellen(a, b)                    a + b\n",
      "    aftrekken(a, b)                   a - b\n",
      "    vermenigvuldigen(a, b)            a * b\n",
      "    delen(a, b)                       a / b\n",
      "    delen_aantal(a, b)                a // b -> afgerond naar beneden\n",
      "    delen_rest(a, b)                  a % b -> restant na afronden naar beneden\n",
      "    macht(a, b)                       a ** b \n",
      "    reciproke(x)                      1 / x\n",
      "    negatief(x)                       -x\n",
      "    kruisproduct(a, b)                a x b: staat loodrecht op vector a en b\n",
      "    inwendigproduct(a, b)             a . b: is |a| * |b| * cos(theta)\n",
      "    exp(x)                            exponentieel: berekent e^x\n",
      "    ln(x)                             natuurlijke logaritme (grondgetal e)\n",
      "    log(x)                            logaritme met grondgetal 10\n",
      "    kgv(a, b)                         kleinste gemene veelvoud: a=12 b=20: 60\n",
      "    ggd(a, b)                         grootste gemene deler: a=12 b=20: 4\n",
      "    min(lijst)                        bepaalt minimum waarde lijst\n",
      "    max(lijst)                        bepaalt maximum waarde lijst\n",
      "    bijsnijden(lijst, min, max)       snij alle elementen af tot minmax bereik\n",
      "    wortel(x)                         vierkantswortel\n",
      "    wortel3(x)                        kubieke wortel\n",
      "    abs(x)                            absolute waarde (altijd positief)\n",
      "    teken(x)                          positief getal: 1.0   negatief: -1.0 \n",
      "    kopieer_teken(a, b)               neem getal a, met het teken (+-) van b\n",
      "    is_positief(a, b)                 stap functie:a<0 -> 0, a=0 -> b, a>0 -> 1 \n",
      "    verwijder_nan(lijst)              verwijder niet-getallen (not a number)\n",
      "    vervang_nan(lijst)                vervang: nan=0, inf=1.7e+308 (heel groot)\n",
      "    interp(x, lijst_x, lijst_y)       interpoleer x in y; lijst_x MOET oplopen\n",
      "    van_totmet_n(van, tot_met, n)     genereert vast aantal getallen (incl. tot)\n",
      "    van_tot_stap(van, tot, stap)      genereert vaste stappen (excl. tot)\n",
      "    gemiddelde(lijst)                 bepaalt het gemiddelde\n",
      "    stdafw_pop(lijst)                 bepaalt standaardafwijking voor populatie\n",
      "    stdafw_n(lijst)                   bepaalt standaardafwijking voor steekproef\n",
      "    mediaan(lijst)                    bepaalt de mediaan\n",
      "    percentiel(lijst, percentage)     percentage getal tussen 0 en 100\n",
      "    correlatie(lijst_a, lijst_b)      bepaalt correlatie matrix\n",
      "    sorteer(lijst)                    sorteert een lijst van klein naar groot\n",
      "    omdraaien(lijst)                  draai de volgorde van de lijst om\n",
      "    alsdan(voorwaarde, als, dan)      bewerk lijst met voorwaarde per item\n",
      "    is_nan(x)                         bepaalt of waarde een niet-getal is\n",
      "    is_inf(x)                         bepaalt of waarde oneindig is\n",
      "    gelijk(lijst_a, lijst_b)          per element kijken of waarden gelijk zijn\n",
      "    groter(lijst_a, lijst_b)          per element kijken of waarde groter dan\n",
      "    groter_gelijk(lijst_a, lijst_b)   idem, maar dan ook gelijk\n",
      "    kleiner(lijst_a, lijst_b)         per element kijken of waarde kleiner dan\n",
      "    kleiner_gelijk(lijst_a, lijst_b)  idem, maar dan ook gelijk\n",
      "    alle(lijst)                       kijkt of alle elementen True zijn\n",
      "    sommige(lijst)                    kijkt of er minimaal 1 element True is\n",
      "    niet_alle(lijst)                  kijkt of er minimaal 1 element False is\n",
      "    geen(lijst)                       kijkt of alle elementen False zijn\n",
      "    of(a, b)                          kijkt of a of b True is\n",
      "    en(a, b)                          kijkt of a en b True is\n",
      "    niet(x)                           omdraaien van True naar False en andersom\n",
      "    xof(a, b)                         True als a of b True is, en niet beide\n",
      "    \n",
      "WISKUNDIGE EIGENSCHAPPEN              (gebaseerd op Numpy module)\n",
      "    nan                               float die geen getal is (not a number)\n",
      "    inf                               oneindig groot\n",
      "    pi                                3.141592653589793\n",
      "    e                                 2.718281828459045\n"
     ]
    }
   ],
   "source": [
    "pc.functies_print_help()"
   ]
  },
  {
   "cell_type": "code",
   "execution_count": 19,
   "metadata": {},
   "outputs": [
    {
     "name": "stdout",
     "output_type": "stream",
     "text": [
      "het gemiddelde van vector v is: 4.666666666666667 mm\n"
     ]
    }
   ],
   "source": [
    "v = pc.Vector(3, 4, 7).mm\n",
    "print(f\"het gemiddelde van vector v is: {pc.gemiddelde(v)}\")"
   ]
  }
 ],
 "metadata": {
  "kernelspec": {
   "display_name": "Python 3",
   "language": "python",
   "name": "python3"
  },
  "language_info": {
   "codemirror_mode": {
    "name": "ipython",
    "version": 3
   },
   "file_extension": ".py",
   "mimetype": "text/x-python",
   "name": "python",
   "nbconvert_exporter": "python",
   "pygments_lexer": "ipython3",
   "version": "3.8.1"
  }
 },
 "nbformat": 4,
 "nbformat_minor": 4
}
